{
 "cells": [
  {
   "cell_type": "code",
   "execution_count": null,
   "id": "4f769f0d",
   "metadata": {},
   "outputs": [],
   "source": [
    "#Import Dependencies \n",
    "import requests\n",
    "import json\n",
    "import matplotlib.pyplot as plt\n",
    "from scipy import stats\n",
    "import pandas as pd\n",
    "import numpy as np\n",
    "from scipy.stats import linregress"
   ]
  },
  {
   "cell_type": "code",
   "execution_count": null,
   "id": "d79b6bf4",
   "metadata": {},
   "outputs": [],
   "source": [
    "#read Json file to a data frame\n",
    "import json\n",
    "a=json.dumps('combined_json_by_year.json')\n"
   ]
  },
  {
   "cell_type": "code",
   "execution_count": null,
   "id": "3aacb96e",
   "metadata": {},
   "outputs": [],
   "source": [
    "df_full = pd.read_json('combined_json_by_year.json') "
   ]
  },
  {
   "cell_type": "code",
   "execution_count": null,
   "id": "f6f23fe9",
   "metadata": {},
   "outputs": [],
   "source": [
    "df_full.columns"
   ]
  },
  {
   "cell_type": "code",
   "execution_count": null,
   "id": "cc2274ab",
   "metadata": {},
   "outputs": [],
   "source": [
    "df_full.head()"
   ]
  },
  {
   "cell_type": "code",
   "execution_count": null,
   "id": "527bf9d9",
   "metadata": {},
   "outputs": [],
   "source": [
    "df = df_full.T\n",
    "df.head()"
   ]
  },
  {
   "cell_type": "code",
   "execution_count": null,
   "id": "8811006e",
   "metadata": {},
   "outputs": [],
   "source": [
    "\n",
    "pd.json_normalize(df.iloc[0]['data'][0])\n",
    "\n",
    "test = pd.DataFrame()\n",
    "for i in range(len(df)):\n",
    "    test = pd.concat([test, pd.json_normalize(df.iloc[i]['data'][11370])])"
   ]
  },
  {
   "cell_type": "code",
   "execution_count": null,
   "id": "68713e81",
   "metadata": {},
   "outputs": [],
   "source": [
    "test"
   ]
  },
  {
   "cell_type": "code",
   "execution_count": null,
   "id": "9c324001",
   "metadata": {},
   "outputs": [],
   "source": [
    "test.insert(0,\"Years\", [2000,2001,2002,2003,2004,2005,2006,2007,2008,2009,2010,2011,2012,2013,2014,2015,2016,2017,2018,2019,2020,2021,2022,2023], True)\n",
    "\n",
    "test.head()"
   ]
  },
  {
   "cell_type": "code",
   "execution_count": null,
   "id": "25109e1c",
   "metadata": {},
   "outputs": [],
   "source": [
    "Temps_df = test.reset_index()\n",
    "Temps_df\n"
   ]
  },
  {
   "cell_type": "code",
   "execution_count": null,
   "id": "222ae780",
   "metadata": {},
   "outputs": [],
   "source": [
    "del Temps_df['index']"
   ]
  },
  {
   "cell_type": "code",
   "execution_count": null,
   "id": "90bdbee7",
   "metadata": {},
   "outputs": [],
   "source": [
    "Temps_df.dtypes"
   ]
  },
  {
   "cell_type": "code",
   "execution_count": null,
   "id": "346cd9f0",
   "metadata": {},
   "outputs": [],
   "source": [
    "Temps_df"
   ]
  },
  {
   "cell_type": "code",
   "execution_count": null,
   "id": "b9a92cc4",
   "metadata": {},
   "outputs": [],
   "source": []
  },
  {
   "cell_type": "code",
   "execution_count": null,
   "id": "a2e35346",
   "metadata": {},
   "outputs": [],
   "source": [
    "plt.figure(figsize=(10, 6))\n",
    "plt.plot(Temps_df['Years'], Temps_df['value'], marker='o')\n",
    "\n",
    "plt.title('Temperature Delta From Years: 2000-2023')\n",
    "plt.xlabel('Years')\n",
    "plt.ylabel('Value')\n",
    "plt.grid(True)\n",
    "plt.xticks(range(2000, 2024, 1))\n",
    "plt.xticks(rotation=90)\n",
    "plt.tight_layout()\n",
    "plt.show()"
   ]
  },
  {
   "cell_type": "code",
   "execution_count": null,
   "id": "f04022d7",
   "metadata": {},
   "outputs": [],
   "source": [
    "coefficients = np.polyfit(Temps_df['Years'], Temps_df['value'], 1)\n",
    "poly = np.poly1d(coefficients)\n",
    "x_values = Temps_df['Years']\n",
    "y_values = poly(x_values)\n",
    "\n",
    "\n",
    "\n",
    "# Plotting\n",
    "plt.figure(figsize=(10, 6))\n",
    "plt.scatter(Temps_df['Years'], Temps_df['value'], label='Data Points')\n",
    "plt.plot(x_values, y_values, color='red', linestyle='-', label='Linear Regression Line')\n",
    "plt.title('Value over the Years with Linear Regression')\n",
    "plt.xlabel('Years')\n",
    "plt.ylabel('Value')\n",
    "plt.legend()\n",
    "plt.grid(True)\n",
    "plt.xticks(rotation=90)\n",
    "plt.tight_layout()\n",
    "plt.show()"
   ]
  },
  {
   "cell_type": "code",
   "execution_count": null,
   "id": "ded958c8",
   "metadata": {},
   "outputs": [],
   "source": [
    "x_values = Temps_df[\"Years\"]\n",
    "y_values = Temps_df[\"value\"]\n",
    "\n",
    "(slope, intercept, rvalue, pvalue, stderr) = linregress(x_values, y_values)\n",
    "regress_values = x_values + slope + intercept\n",
    "line_eq = \"y = \" + str(round(slope,2)) + \"x + \" + str(round(intercept,2))\n",
    "plt.scatter(x_values,y_values)\n",
    "plt.plot(x_values,regress_values, \"r-\")\n",
    "plt.annotate(line_eq,(5.8,0.8),fontsize=15,color=\"red\")\n",
    "print(f\"The r-squared is: {rvalue**2}\")\n",
    "print(line_eq)\n",
    "plt.show()"
   ]
  },
  {
   "cell_type": "code",
   "execution_count": null,
   "id": "972b0a49",
   "metadata": {},
   "outputs": [],
   "source": [
    "# split the dataframe\n",
    "objs = [df, pd.DataFrame(df['data'].tolist()).iloc[:, :3]]\n",
    "df2 = pd.concat(objs, axis=1).drop('data', axis=1)\n"
   ]
  },
  {
   "cell_type": "code",
   "execution_count": null,
   "id": "e9703cda",
   "metadata": {},
   "outputs": [],
   "source": [
    "# Function to extract information from the list of dictionaries\n",
    "# def extract_info(row):\n",
    "#     if isinstance(row, list):\n",
    "#         return row[0]  # Assuming there's only one dictionary in each list element\n",
    "#     else:\n",
    "#         return {}\n",
    "\n",
    "# # Apply the function to create new columns\n",
    "# df_pull = pd.concat([df, df['data'].apply(pd.Series).apply(extract_info)], axis=1)\n",
    "\n",
    "# # Drop the original list_col column\n",
    "# df_pull.drop('data', axis=1, inplace=True)\n",
    "1a\n",
    "# print(df_pull)"
   ]
  },
  {
   "cell_type": "code",
   "execution_count": null,
   "id": "5f5718ca",
   "metadata": {},
   "outputs": [],
   "source": []
  }
 ],
 "metadata": {
  "kernelspec": {
   "display_name": "Python 3 (ipykernel)",
   "language": "python",
   "name": "python3"
  },
  "language_info": {
   "codemirror_mode": {
    "name": "ipython",
    "version": 3
   },
   "file_extension": ".py",
   "mimetype": "text/x-python",
   "name": "python",
   "nbconvert_exporter": "python",
   "pygments_lexer": "ipython3",
   "version": "3.11.5"
  }
 },
 "nbformat": 4,
 "nbformat_minor": 5
}
