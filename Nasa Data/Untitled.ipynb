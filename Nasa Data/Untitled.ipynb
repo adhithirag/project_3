{
 "cells": [
  {
   "cell_type": "code",
   "execution_count": 7,
   "id": "fcd6c0c2",
   "metadata": {},
   "outputs": [
    {
     "name": "stdout",
     "output_type": "stream",
     "text": [
      "C:\\Users\\EJ-PC\\Bootcamp\\Modules\\project_3\\Nasa Data\\23 years\\by_years\n"
     ]
    }
   ],
   "source": [
    "import json\n",
    "import os\n",
    "\n",
    "#os.chdir('23 years/by_years')\n",
    "directory = os.getcwd()\n",
    "print(directory)\n",
    "\n"
   ]
  },
  {
   "cell_type": "code",
   "execution_count": 8,
   "id": "2119838d",
   "metadata": {},
   "outputs": [],
   "source": [
    "\n",
    "# Directory containing your JSON files\n",
    "json_dir_path = directory  # Update this path\n",
    "\n",
    "# Initialize a dictionary for data storage\n",
    "tempanomaly_data_by_year = {}\n",
    "\n",
    "# Process each JSON file\n",
    "for file_name in os.listdir(json_dir_path):\n",
    "    full_file_path = os.path.join(json_dir_path, file_name)\n",
    "    if os.path.isfile(full_file_path) and file_name.endswith('.json'):\n",
    "        with open(full_file_path, 'r') as file:\n",
    "            # Assuming json_content is a list of records\n",
    "            json_contents = json.load(file)\n",
    "            for json_content in json_contents:\n",
    "                # Extract year from the \"time\" field\n",
    "                year = \"20\" + json_content[\"time\"].split(\"/\")[0]  # Adjust if necessary\n",
    "                \n",
    "                if year not in tempanomaly_data_by_year:\n",
    "                    tempanomaly_data_by_year[year] = {}\n",
    "                \n",
    "                for entry in json_content[\"tempanomaly\"]:\n",
    "                    lat_lon = (entry[\"lat\"], entry[\"lon\"])\n",
    "                    \n",
    "                    if lat_lon not in tempanomaly_data_by_year[year]:\n",
    "                        tempanomaly_data_by_year[year][lat_lon] = {'sum': 0, 'count': 0}\n",
    "                    \n",
    "                    tempanomaly_data_by_year[year][lat_lon]['sum'] += entry[\"value\"]\n",
    "                    tempanomaly_data_by_year[year][lat_lon]['count'] += 1\n",
    "\n",
    "# Prepare and write the output files\n",
    "for year, anomalies in tempanomaly_data_by_year.items():\n",
    "    output_data = {\n",
    "        \"time\": year,\n",
    "        \"tempanomaly\": []\n",
    "    }\n",
    "    \n",
    "    for (lat, lon), data in anomalies.items():\n",
    "        average_value = data['sum'] / data['count']\n",
    "        output_data[\"tempanomaly\"].append({\"lat\": lat, \"lon\": lon, \"value\": average_value})\n",
    "    \n",
    "    output_file_path = os.path.join(json_dir_path, f'averaged_tempanomaly_{year}.json')\n",
    "    with open(output_file_path, 'w') as output_file:\n",
    "        json.dump(output_data, output_file, indent=4)\n"
   ]
  },
  {
   "cell_type": "code",
   "execution_count": null,
   "id": "6bf09cff",
   "metadata": {},
   "outputs": [],
   "source": []
  }
 ],
 "metadata": {
  "kernelspec": {
   "display_name": "Python 3 (ipykernel)",
   "language": "python",
   "name": "python3"
  },
  "language_info": {
   "codemirror_mode": {
    "name": "ipython",
    "version": 3
   },
   "file_extension": ".py",
   "mimetype": "text/x-python",
   "name": "python",
   "nbconvert_exporter": "python",
   "pygments_lexer": "ipython3",
   "version": "3.11.5"
  }
 },
 "nbformat": 4,
 "nbformat_minor": 5
}
